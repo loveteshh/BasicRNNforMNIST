{
 "cells": [
  {
   "cell_type": "code",
   "execution_count": 27,
   "metadata": {},
   "outputs": [],
   "source": [
    "import tensorflow as tf\n",
    "from sklearn.datasets import fetch_mldata\n",
    "import numpy as np"
   ]
  },
  {
   "cell_type": "code",
   "execution_count": 2,
   "metadata": {},
   "outputs": [],
   "source": [
    "data = fetch_mldata('mnist original')"
   ]
  },
  {
   "cell_type": "code",
   "execution_count": 30,
   "metadata": {},
   "outputs": [],
   "source": [
    "x, _y = data.data, data.target"
   ]
  },
  {
   "cell_type": "code",
   "execution_count": 4,
   "metadata": {},
   "outputs": [],
   "source": [
    "from sklearn.model_selection import StratifiedShuffleSplit"
   ]
  },
  {
   "cell_type": "code",
   "execution_count": 42,
   "metadata": {},
   "outputs": [
    {
     "name": "stdout",
     "output_type": "stream",
     "text": [
      "(63000, 784) (63000,)\n",
      "(63000, 28, 28) (63000,)\n"
     ]
    }
   ],
   "source": [
    "sss = StratifiedShuffleSplit()\n",
    "for train, test in sss.split(x,_y):\n",
    "    x_train, y_train = x[train], _y[train]\n",
    "    x_test, y_test = x[test], _y[test]\n",
    "    \n",
    "print(x_train.shape, y_train.shape)\n",
    "x_train, x_test = np.reshape(x_train, newshape=(-1,28,28)), np.reshape(x_test, newshape=(-1,28,28))\n",
    "print(x_train.shape, y_train.shape)"
   ]
  },
  {
   "cell_type": "code",
   "execution_count": 26,
   "metadata": {},
   "outputs": [],
   "source": [
    "n_steps = 28\n",
    "n_inputs = 28\n",
    "learning_rate = 0.001\n",
    "n_epoch = 40"
   ]
  },
  {
   "cell_type": "code",
   "execution_count": 39,
   "metadata": {},
   "outputs": [],
   "source": [
    "def next_batch(batch_size = 30, x_train = x_train, y_train = y_train):\n",
    "    prev = 0\n",
    "    for i in range(batch_size , x_train.shape[0], batch_size):\n",
    "        yield x_train[prev:i], y_train[prev:i]\n",
    "        prev = i"
   ]
  },
  {
   "cell_type": "code",
   "execution_count": 43,
   "metadata": {},
   "outputs": [],
   "source": [
    "tf.reset_default_graph()"
   ]
  },
  {
   "cell_type": "code",
   "execution_count": 44,
   "metadata": {},
   "outputs": [],
   "source": [
    "X = tf.placeholder(shape=[None, n_steps, n_inputs], dtype=tf.float32)\n",
    "y = tf.placeholder(shape=[None], dtype=tf.int32)"
   ]
  },
  {
   "cell_type": "code",
   "execution_count": 45,
   "metadata": {},
   "outputs": [],
   "source": [
    "bcell = tf.contrib.rnn.BasicRNNCell(num_units=50, activation=tf.nn.elu, dtype=tf.float32)"
   ]
  },
  {
   "cell_type": "code",
   "execution_count": 46,
   "metadata": {},
   "outputs": [],
   "source": [
    "outputs, states = tf.nn.dynamic_rnn(cell=bcell, dtype=tf.float32, inputs=X)\n",
    "logits = tf.layers.dense(units=10, kernel_initializer=tf.contrib.layers.variance_scaling_initializer(),inputs=states)"
   ]
  },
  {
   "cell_type": "code",
   "execution_count": 47,
   "metadata": {},
   "outputs": [],
   "source": [
    "xentropy = tf.nn.sparse_softmax_cross_entropy_with_logits(logits = logits, labels=y)\n",
    "loss = tf.reduce_mean(xentropy)\n",
    "\n",
    "optimizer = tf.train.AdamOptimizer(learning_rate=learning_rate)\n",
    "training_op = optimizer.minimize(loss)\n",
    "\n",
    "correct = tf.nn.in_top_k(k=1, targets=y, predictions=tf.nn.softmax(logits))\n",
    "accuracy = tf.reduce_mean(tf.cast(correct, tf.float32))"
   ]
  },
  {
   "cell_type": "code",
   "execution_count": 48,
   "metadata": {},
   "outputs": [
    {
     "name": "stdout",
     "output_type": "stream",
     "text": [
      "epoch 0 Training accuracy: 0.5910952 Testing accuracy: 0.58742857\n",
      "epoch 1 Training accuracy: 0.7262381 Testing accuracy: 0.72842854\n",
      "epoch 2 Training accuracy: 0.7994603 Testing accuracy: 0.8044286\n",
      "epoch 3 Training accuracy: 0.819254 Testing accuracy: 0.82542855\n",
      "epoch 4 Training accuracy: 0.830381 Testing accuracy: 0.8317143\n",
      "epoch 5 Training accuracy: 0.8417778 Testing accuracy: 0.84814286\n",
      "epoch 6 Training accuracy: 0.86131746 Testing accuracy: 0.85957146\n",
      "epoch 7 Training accuracy: 0.8939365 Testing accuracy: 0.889\n",
      "epoch 8 Training accuracy: 0.89749205 Testing accuracy: 0.89285713\n",
      "epoch 9 Training accuracy: 0.90226984 Testing accuracy: 0.90014285\n",
      "epoch 10 Training accuracy: 0.9050635 Testing accuracy: 0.9012857\n",
      "epoch 11 Training accuracy: 0.9041905 Testing accuracy: 0.9021429\n",
      "epoch 12 Training accuracy: 0.92138094 Testing accuracy: 0.9177143\n",
      "epoch 13 Training accuracy: 0.9172698 Testing accuracy: 0.9161429\n",
      "epoch 14 Training accuracy: 0.92825395 Testing accuracy: 0.9257143\n",
      "epoch 15 Training accuracy: 0.9172222 Testing accuracy: 0.91414285\n",
      "epoch 16 Training accuracy: 0.91612697 Testing accuracy: 0.91328573\n",
      "epoch 17 Training accuracy: 0.9085238 Testing accuracy: 0.907\n",
      "epoch 18 Training accuracy: 0.9284127 Testing accuracy: 0.92885715\n",
      "epoch 19 Training accuracy: 0.9293492 Testing accuracy: 0.9302857\n",
      "epoch 20 Training accuracy: 0.92557144 Testing accuracy: 0.92414284\n",
      "epoch 21 Training accuracy: 0.9336508 Testing accuracy: 0.9322857\n",
      "epoch 22 Training accuracy: 0.92493653 Testing accuracy: 0.9237143\n",
      "epoch 23 Training accuracy: 0.9344286 Testing accuracy: 0.93142855\n",
      "epoch 24 Training accuracy: 0.94307935 Testing accuracy: 0.9415714\n",
      "epoch 25 Training accuracy: 0.9321111 Testing accuracy: 0.932\n",
      "epoch 26 Training accuracy: 0.92684126 Testing accuracy: 0.9307143\n",
      "epoch 27 Training accuracy: 0.9311746 Testing accuracy: 0.9334286\n",
      "epoch 28 Training accuracy: 0.94514287 Testing accuracy: 0.9442857\n",
      "epoch 29 Training accuracy: 0.93393654 Testing accuracy: 0.9327143\n",
      "epoch 30 Training accuracy: 0.9505397 Testing accuracy: 0.94757146\n",
      "epoch 31 Training accuracy: 0.9429365 Testing accuracy: 0.9417143\n",
      "epoch 32 Training accuracy: 0.9432222 Testing accuracy: 0.94114286\n",
      "epoch 33 Training accuracy: 0.9525079 Testing accuracy: 0.9498571\n",
      "epoch 34 Training accuracy: 0.9473175 Testing accuracy: 0.9455714\n",
      "epoch 35 Training accuracy: 0.9252381 Testing accuracy: 0.923\n",
      "epoch 36 Training accuracy: 0.9460159 Testing accuracy: 0.9465714\n",
      "epoch 37 Training accuracy: 0.9508254 Testing accuracy: 0.95028573\n",
      "epoch 38 Training accuracy: 0.89555556 Testing accuracy: 0.8954286\n",
      "epoch 39 Training accuracy: 0.94277775 Testing accuracy: 0.94028574\n"
     ]
    }
   ],
   "source": [
    "init = tf.global_variables_initializer()\n",
    "with tf.Session() as sess:\n",
    "    init.run()\n",
    "    for epoch in range(n_epoch):\n",
    "        batch = next_batch()\n",
    "        for x_batch, y_batch in batch:\n",
    "            sess.run(training_op, feed_dict = {X:x_batch, y:y_batch})\n",
    "        acc_train = accuracy.eval(feed_dict = {X:x_train, y:y_train})\n",
    "        acc_test = accuracy.eval(feed_dict = {X:x_test, y:y_test})\n",
    "        print('epoch',epoch,'Training accuracy:',acc_train, 'Testing accuracy:',acc_test)"
   ]
  },
  {
   "cell_type": "code",
   "execution_count": null,
   "metadata": {},
   "outputs": [],
   "source": []
  }
 ],
 "metadata": {
  "kernelspec": {
   "display_name": "Python 3",
   "language": "python",
   "name": "python3"
  },
  "language_info": {
   "codemirror_mode": {
    "name": "ipython",
    "version": 3
   },
   "file_extension": ".py",
   "mimetype": "text/x-python",
   "name": "python",
   "nbconvert_exporter": "python",
   "pygments_lexer": "ipython3",
   "version": "3.6.6"
  }
 },
 "nbformat": 4,
 "nbformat_minor": 2
}
